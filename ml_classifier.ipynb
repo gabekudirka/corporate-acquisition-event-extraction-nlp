{
 "cells": [
  {
   "cell_type": "code",
   "execution_count": 23,
   "source": [
    "import pandas as pd\r\n",
    "import numpy as np\r\n",
    "import sklearn\r\n",
    "from sklearn.model_selection import train_test_split\r\n",
    "from sklearn.tree import DecisionTreeClassifier\r\n",
    "from sklearn import metrics"
   ],
   "outputs": [],
   "metadata": {}
  },
  {
   "cell_type": "code",
   "execution_count": 29,
   "source": [
    "data = pd.read_csv('./output.csv')\r\n",
    "data = data.drop('text', axis=1)"
   ],
   "outputs": [],
   "metadata": {}
  },
  {
   "cell_type": "code",
   "execution_count": 30,
   "source": [
    "data['label'] = data['label'].astype('category')\r\n",
    "categories = dict(enumerate(data['label'].cat.categories))\r\n",
    "data['label'] = data['label'].cat.codes"
   ],
   "outputs": [],
   "metadata": {}
  },
  {
   "cell_type": "code",
   "execution_count": 31,
   "source": [
    "dep_one_hot = pd.get_dummies(data['dep'], prefix='dep')\r\n",
    "pos_one_hot = pd.get_dummies(data['pos'], prefix='pos')\r\n",
    "head_text_one_hot = pd.get_dummies(data['head_text'], prefix='head_text')\r\n",
    "head_pos_one_hot = pd.get_dummies(data['head_pos'], prefix='head_pos')\r\n",
    "head_dep_one_hot = pd.get_dummies(data['head_dep'], prefix='head_dep')\r\n",
    "next_verb_one_hot = pd.get_dummies(data['next_verb'], prefix='next_verb')\r\n",
    "entity_label_one_hot = pd.get_dummies(data['entity_label'], prefix='entity_label')\r\n",
    "\r\n",
    "#drop categorical colums\r\n",
    "data = data.drop(['dep', 'pos', 'head_text', 'head_pos', 'head_dep', 'next_verb', 'entity_label'], axis=1)\r\n",
    "data = data.join(dep_one_hot)\r\n",
    "data = data.join(pos_one_hot)\r\n",
    "#data = data.join(head_text_one_hot)\r\n",
    "data = data.join(head_pos_one_hot)\r\n",
    "data = data.join(head_dep_one_hot)\r\n",
    "#data = data.join(next_verb_one_hot)\r\n",
    "data = data.join(entity_label_one_hot)\r\n",
    "\r\n",
    "print(data.shape)"
   ],
   "outputs": [
    {
     "output_type": "stream",
     "name": "stdout",
     "text": [
      "(4723, 1257)\n"
     ]
    }
   ],
   "metadata": {}
  },
  {
   "cell_type": "code",
   "execution_count": 32,
   "source": [
    "X = data.drop('label', axis=1)\r\n",
    "y = data['label']"
   ],
   "outputs": [],
   "metadata": {}
  },
  {
   "cell_type": "code",
   "execution_count": 33,
   "source": [
    "X_train, X_test, y_train, y_test = train_test_split(X, y)"
   ],
   "outputs": [],
   "metadata": {}
  },
  {
   "cell_type": "code",
   "execution_count": 34,
   "source": [
    "classifier = DecisionTreeClassifier()\r\n",
    "classifier.fit(X_train, y_train)\r\n",
    "y_pred = classifier.predict(X_test)"
   ],
   "outputs": [],
   "metadata": {}
  },
  {
   "cell_type": "code",
   "execution_count": 35,
   "source": [
    "print(\"Accuracy:\",metrics.accuracy_score(y_test, y_pred))"
   ],
   "outputs": [
    {
     "output_type": "stream",
     "name": "stdout",
     "text": [
      "Accuracy: 0.8196443691786621\n"
     ]
    }
   ],
   "metadata": {}
  }
 ],
 "metadata": {
  "orig_nbformat": 4,
  "language_info": {
   "name": "python",
   "version": "3.9.6",
   "mimetype": "text/x-python",
   "codemirror_mode": {
    "name": "ipython",
    "version": 3
   },
   "pygments_lexer": "ipython3",
   "nbconvert_exporter": "python",
   "file_extension": ".py"
  },
  "kernelspec": {
   "name": "python3",
   "display_name": "Python 3.9.6 64-bit ('venv')"
  },
  "interpreter": {
   "hash": "188ff7c4423a77199b5e01c00d13e83ee428b29f1e10ce70e71a007a382c54c3"
  }
 },
 "nbformat": 4,
 "nbformat_minor": 2
}